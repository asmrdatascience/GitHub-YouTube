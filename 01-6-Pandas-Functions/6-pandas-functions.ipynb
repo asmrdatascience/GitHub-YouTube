{
 "cells": [
  {
   "cell_type": "code",
   "execution_count": 19,
   "metadata": {},
   "outputs": [
    {
     "name": "stdout",
     "output_type": "stream",
     "text": [
      "Python       : 3.9.6 (default, Jun 28 2021, 19:24:41) \n",
      "Pandas       : 1.3.5\n"
     ]
    }
   ],
   "source": [
    "import pandas as pd\n",
    "\n",
    "print(\"Python       :\", sys.version.split(\"\\n\")[0])\n",
    "print(\"Pandas       :\", pd.__version__)"
   ]
  },
  {
   "cell_type": "code",
   "execution_count": 17,
   "metadata": {},
   "outputs": [
    {
     "data": {
      "text/html": [
       "<div>\n",
       "<style scoped>\n",
       "    .dataframe tbody tr th:only-of-type {\n",
       "        vertical-align: middle;\n",
       "    }\n",
       "\n",
       "    .dataframe tbody tr th {\n",
       "        vertical-align: top;\n",
       "    }\n",
       "\n",
       "    .dataframe thead th {\n",
       "        text-align: right;\n",
       "    }\n",
       "</style>\n",
       "<table border=\"1\" class=\"dataframe\">\n",
       "  <thead>\n",
       "    <tr style=\"text-align: right;\">\n",
       "      <th></th>\n",
       "      <th>id</th>\n",
       "      <th>product_code</th>\n",
       "      <th>product_group</th>\n",
       "      <th>stock_qty</th>\n",
       "      <th>cost</th>\n",
       "      <th>price</th>\n",
       "      <th>last_week_sales</th>\n",
       "      <th>last_month_sales</th>\n",
       "    </tr>\n",
       "  </thead>\n",
       "  <tbody>\n",
       "    <tr>\n",
       "      <th>0</th>\n",
       "      <td>1</td>\n",
       "      <td>4187</td>\n",
       "      <td>PG2</td>\n",
       "      <td>498</td>\n",
       "      <td>420.76</td>\n",
       "      <td>569.91</td>\n",
       "      <td>13</td>\n",
       "      <td>58</td>\n",
       "    </tr>\n",
       "    <tr>\n",
       "      <th>1</th>\n",
       "      <td>2</td>\n",
       "      <td>4195</td>\n",
       "      <td>PG2</td>\n",
       "      <td>473</td>\n",
       "      <td>545.64</td>\n",
       "      <td>712.41</td>\n",
       "      <td>16</td>\n",
       "      <td>58</td>\n",
       "    </tr>\n",
       "    <tr>\n",
       "      <th>2</th>\n",
       "      <td>3</td>\n",
       "      <td>4204</td>\n",
       "      <td>PG2</td>\n",
       "      <td>968</td>\n",
       "      <td>640.42</td>\n",
       "      <td>854.91</td>\n",
       "      <td>22</td>\n",
       "      <td>88</td>\n",
       "    </tr>\n",
       "    <tr>\n",
       "      <th>3</th>\n",
       "      <td>4</td>\n",
       "      <td>4219</td>\n",
       "      <td>PG2</td>\n",
       "      <td>241</td>\n",
       "      <td>869.69</td>\n",
       "      <td>1034.55</td>\n",
       "      <td>14</td>\n",
       "      <td>45</td>\n",
       "    </tr>\n",
       "    <tr>\n",
       "      <th>4</th>\n",
       "      <td>5</td>\n",
       "      <td>4718</td>\n",
       "      <td>PG2</td>\n",
       "      <td>1401</td>\n",
       "      <td>12.54</td>\n",
       "      <td>26.59</td>\n",
       "      <td>50</td>\n",
       "      <td>285</td>\n",
       "    </tr>\n",
       "  </tbody>\n",
       "</table>\n",
       "</div>"
      ],
      "text/plain": [
       "   id  product_code product_group  stock_qty    cost    price  \\\n",
       "0   1          4187           PG2        498  420.76   569.91   \n",
       "1   2          4195           PG2        473  545.64   712.41   \n",
       "2   3          4204           PG2        968  640.42   854.91   \n",
       "3   4          4219           PG2        241  869.69  1034.55   \n",
       "4   5          4718           PG2       1401   12.54    26.59   \n",
       "\n",
       "   last_week_sales  last_month_sales  \n",
       "0               13                58  \n",
       "1               16                58  \n",
       "2               22                88  \n",
       "3               14                45  \n",
       "4               50               285  "
      ]
     },
     "execution_count": 17,
     "metadata": {},
     "output_type": "execute_result"
    }
   ],
   "source": [
    "sales = pd.read_csv(\"sales.csv\")\n",
    "\n",
    "sales.head()"
   ]
  },
  {
   "cell_type": "markdown",
   "metadata": {},
   "source": [
    "Набор данных содержит информацию о запасах, затратах, ценах и продажах товаров в розничном магазине./\n",
    "The dataset contains information about inventory, costs, prices, and sales of goods in a retail store."
   ]
  },
  {
   "cell_type": "markdown",
   "metadata": {},
   "source": [
    "1. Shape"
   ]
  },
  {
   "cell_type": "code",
   "execution_count": 4,
   "metadata": {},
   "outputs": [
    {
     "data": {
      "text/plain": [
       "(1000, 8)"
      ]
     },
     "execution_count": 4,
     "metadata": {},
     "output_type": "execute_result"
    }
   ],
   "source": [
    "sales.shape"
   ]
  },
  {
   "cell_type": "code",
   "execution_count": 5,
   "metadata": {},
   "outputs": [
    {
     "data": {
      "text/plain": [
       "8000"
      ]
     },
     "execution_count": 5,
     "metadata": {},
     "output_type": "execute_result"
    }
   ],
   "source": [
    "sales.size"
   ]
  },
  {
   "cell_type": "markdown",
   "metadata": {},
   "source": [
    "2. Dtypes"
   ]
  },
  {
   "cell_type": "code",
   "execution_count": 6,
   "metadata": {},
   "outputs": [
    {
     "data": {
      "text/plain": [
       "id                    int64\n",
       "product_code          int64\n",
       "product_group        object\n",
       "stock_qty             int64\n",
       "cost                float64\n",
       "price               float64\n",
       "last_week_sales       int64\n",
       "last_month_sales      int64\n",
       "dtype: object"
      ]
     },
     "execution_count": 6,
     "metadata": {},
     "output_type": "execute_result"
    }
   ],
   "source": [
    "sales.dtypes"
   ]
  },
  {
   "cell_type": "markdown",
   "metadata": {},
   "source": [
    "3. Isna"
   ]
  },
  {
   "cell_type": "code",
   "execution_count": 7,
   "metadata": {},
   "outputs": [
    {
     "data": {
      "text/plain": [
       "id                  0\n",
       "product_code        0\n",
       "product_group       0\n",
       "stock_qty           0\n",
       "cost                0\n",
       "price               0\n",
       "last_week_sales     0\n",
       "last_month_sales    0\n",
       "dtype: int64"
      ]
     },
     "execution_count": 7,
     "metadata": {},
     "output_type": "execute_result"
    }
   ],
   "source": [
    "sales.isna().sum()"
   ]
  },
  {
   "cell_type": "code",
   "execution_count": 8,
   "metadata": {},
   "outputs": [
    {
     "data": {
      "text/plain": [
       "0      0\n",
       "1      0\n",
       "2      0\n",
       "3      0\n",
       "4      0\n",
       "      ..\n",
       "995    0\n",
       "996    0\n",
       "997    0\n",
       "998    0\n",
       "999    0\n",
       "Length: 1000, dtype: int64"
      ]
     },
     "execution_count": 8,
     "metadata": {},
     "output_type": "execute_result"
    }
   ],
   "source": [
    "sales.isna().sum(axis=1)"
   ]
  },
  {
   "cell_type": "markdown",
   "metadata": {},
   "source": [
    "4. Describe"
   ]
  },
  {
   "cell_type": "code",
   "execution_count": 11,
   "metadata": {},
   "outputs": [
    {
     "data": {
      "text/html": [
       "<div>\n",
       "<style scoped>\n",
       "    .dataframe tbody tr th:only-of-type {\n",
       "        vertical-align: middle;\n",
       "    }\n",
       "\n",
       "    .dataframe tbody tr th {\n",
       "        vertical-align: top;\n",
       "    }\n",
       "\n",
       "    .dataframe thead th {\n",
       "        text-align: right;\n",
       "    }\n",
       "</style>\n",
       "<table border=\"1\" class=\"dataframe\">\n",
       "  <thead>\n",
       "    <tr style=\"text-align: right;\">\n",
       "      <th></th>\n",
       "      <th>id</th>\n",
       "      <th>product_code</th>\n",
       "      <th>stock_qty</th>\n",
       "      <th>cost</th>\n",
       "      <th>price</th>\n",
       "      <th>last_week_sales</th>\n",
       "      <th>last_month_sales</th>\n",
       "    </tr>\n",
       "  </thead>\n",
       "  <tbody>\n",
       "    <tr>\n",
       "      <th>count</th>\n",
       "      <td>1000.00</td>\n",
       "      <td>1000.00</td>\n",
       "      <td>1000.00</td>\n",
       "      <td>1000.00</td>\n",
       "      <td>1000.00</td>\n",
       "      <td>1000.00</td>\n",
       "      <td>1000.00</td>\n",
       "    </tr>\n",
       "    <tr>\n",
       "      <th>mean</th>\n",
       "      <td>500.50</td>\n",
       "      <td>5095.09</td>\n",
       "      <td>6012.50</td>\n",
       "      <td>45.95</td>\n",
       "      <td>67.06</td>\n",
       "      <td>76.92</td>\n",
       "      <td>282.00</td>\n",
       "    </tr>\n",
       "    <tr>\n",
       "      <th>std</th>\n",
       "      <td>288.82</td>\n",
       "      <td>2801.12</td>\n",
       "      <td>129789.19</td>\n",
       "      <td>114.17</td>\n",
       "      <td>144.10</td>\n",
       "      <td>197.39</td>\n",
       "      <td>741.96</td>\n",
       "    </tr>\n",
       "    <tr>\n",
       "      <th>min</th>\n",
       "      <td>1.00</td>\n",
       "      <td>16.00</td>\n",
       "      <td>-123.00</td>\n",
       "      <td>0.54</td>\n",
       "      <td>0.66</td>\n",
       "      <td>12.00</td>\n",
       "      <td>11.00</td>\n",
       "    </tr>\n",
       "    <tr>\n",
       "      <th>25%</th>\n",
       "      <td>250.75</td>\n",
       "      <td>2647.75</td>\n",
       "      <td>476.00</td>\n",
       "      <td>6.58</td>\n",
       "      <td>13.29</td>\n",
       "      <td>18.75</td>\n",
       "      <td>61.00</td>\n",
       "    </tr>\n",
       "    <tr>\n",
       "      <th>50%</th>\n",
       "      <td>500.50</td>\n",
       "      <td>4969.50</td>\n",
       "      <td>1007.50</td>\n",
       "      <td>13.09</td>\n",
       "      <td>23.74</td>\n",
       "      <td>31.00</td>\n",
       "      <td>110.50</td>\n",
       "    </tr>\n",
       "    <tr>\n",
       "      <th>75%</th>\n",
       "      <td>750.25</td>\n",
       "      <td>7653.25</td>\n",
       "      <td>2105.25</td>\n",
       "      <td>33.57</td>\n",
       "      <td>56.99</td>\n",
       "      <td>64.00</td>\n",
       "      <td>242.00</td>\n",
       "    </tr>\n",
       "    <tr>\n",
       "      <th>max</th>\n",
       "      <td>1000.00</td>\n",
       "      <td>9972.00</td>\n",
       "      <td>4104542.00</td>\n",
       "      <td>1243.00</td>\n",
       "      <td>1500.05</td>\n",
       "      <td>3222.00</td>\n",
       "      <td>12353.00</td>\n",
       "    </tr>\n",
       "  </tbody>\n",
       "</table>\n",
       "</div>"
      ],
      "text/plain": [
       "            id  product_code   stock_qty     cost    price  last_week_sales  \\\n",
       "count  1000.00       1000.00     1000.00  1000.00  1000.00          1000.00   \n",
       "mean    500.50       5095.09     6012.50    45.95    67.06            76.92   \n",
       "std     288.82       2801.12   129789.19   114.17   144.10           197.39   \n",
       "min       1.00         16.00     -123.00     0.54     0.66            12.00   \n",
       "25%     250.75       2647.75      476.00     6.58    13.29            18.75   \n",
       "50%     500.50       4969.50     1007.50    13.09    23.74            31.00   \n",
       "75%     750.25       7653.25     2105.25    33.57    56.99            64.00   \n",
       "max    1000.00       9972.00  4104542.00  1243.00  1500.05          3222.00   \n",
       "\n",
       "       last_month_sales  \n",
       "count           1000.00  \n",
       "mean             282.00  \n",
       "std              741.96  \n",
       "min               11.00  \n",
       "25%               61.00  \n",
       "50%              110.50  \n",
       "75%              242.00  \n",
       "max            12353.00  "
      ]
     },
     "execution_count": 11,
     "metadata": {},
     "output_type": "execute_result"
    }
   ],
   "source": [
    "sales.describe().round(2)"
   ]
  },
  {
   "cell_type": "markdown",
   "metadata": {},
   "source": [
    "5. Value_counts"
   ]
  },
  {
   "cell_type": "code",
   "execution_count": 12,
   "metadata": {},
   "outputs": [
    {
     "data": {
      "text/plain": [
       "PG4    349\n",
       "PG5    255\n",
       "PG6    243\n",
       "PG2     75\n",
       "PG3     39\n",
       "PG1     39\n",
       "Name: product_group, dtype: int64"
      ]
     },
     "execution_count": 12,
     "metadata": {},
     "output_type": "execute_result"
    }
   ],
   "source": [
    "sales[\"product_group\"].value_counts()"
   ]
  },
  {
   "cell_type": "code",
   "execution_count": 13,
   "metadata": {},
   "outputs": [
    {
     "data": {
      "text/plain": [
       "PG4    0.349\n",
       "PG5    0.255\n",
       "PG6    0.243\n",
       "PG2    0.075\n",
       "PG3    0.039\n",
       "PG1    0.039\n",
       "Name: product_group, dtype: float64"
      ]
     },
     "execution_count": 13,
     "metadata": {},
     "output_type": "execute_result"
    }
   ],
   "source": [
    "sales[\"product_group\"].value_counts(normalize=True)"
   ]
  },
  {
   "cell_type": "markdown",
   "metadata": {},
   "source": [
    "6. Groupby"
   ]
  },
  {
   "cell_type": "code",
   "execution_count": 14,
   "metadata": {},
   "outputs": [
    {
     "data": {
      "text/html": [
       "<div>\n",
       "<style scoped>\n",
       "    .dataframe tbody tr th:only-of-type {\n",
       "        vertical-align: middle;\n",
       "    }\n",
       "\n",
       "    .dataframe tbody tr th {\n",
       "        vertical-align: top;\n",
       "    }\n",
       "\n",
       "    .dataframe thead th {\n",
       "        text-align: right;\n",
       "    }\n",
       "</style>\n",
       "<table border=\"1\" class=\"dataframe\">\n",
       "  <thead>\n",
       "    <tr style=\"text-align: right;\">\n",
       "      <th></th>\n",
       "      <th>product_group</th>\n",
       "      <th>avg_price</th>\n",
       "    </tr>\n",
       "  </thead>\n",
       "  <tbody>\n",
       "    <tr>\n",
       "      <th>0</th>\n",
       "      <td>PG1</td>\n",
       "      <td>303.612821</td>\n",
       "    </tr>\n",
       "    <tr>\n",
       "      <th>1</th>\n",
       "      <td>PG2</td>\n",
       "      <td>124.980133</td>\n",
       "    </tr>\n",
       "    <tr>\n",
       "      <th>2</th>\n",
       "      <td>PG3</td>\n",
       "      <td>83.571538</td>\n",
       "    </tr>\n",
       "    <tr>\n",
       "      <th>3</th>\n",
       "      <td>PG4</td>\n",
       "      <td>31.033381</td>\n",
       "    </tr>\n",
       "    <tr>\n",
       "      <th>4</th>\n",
       "      <td>PG5</td>\n",
       "      <td>87.094980</td>\n",
       "    </tr>\n",
       "    <tr>\n",
       "      <th>5</th>\n",
       "      <td>PG6</td>\n",
       "      <td>39.300165</td>\n",
       "    </tr>\n",
       "  </tbody>\n",
       "</table>\n",
       "</div>"
      ],
      "text/plain": [
       "  product_group   avg_price\n",
       "0           PG1  303.612821\n",
       "1           PG2  124.980133\n",
       "2           PG3   83.571538\n",
       "3           PG4   31.033381\n",
       "4           PG5   87.094980\n",
       "5           PG6   39.300165"
      ]
     },
     "execution_count": 14,
     "metadata": {},
     "output_type": "execute_result"
    }
   ],
   "source": [
    "sales.groupby(\"product_group\", as_index=False).agg(  \n",
    "    avg_price = (\"price\",\"mean\")\n",
    ")"
   ]
  },
  {
   "cell_type": "code",
   "execution_count": 15,
   "metadata": {},
   "outputs": [
    {
     "data": {
      "text/html": [
       "<div>\n",
       "<style scoped>\n",
       "    .dataframe tbody tr th:only-of-type {\n",
       "        vertical-align: middle;\n",
       "    }\n",
       "\n",
       "    .dataframe tbody tr th {\n",
       "        vertical-align: top;\n",
       "    }\n",
       "\n",
       "    .dataframe thead th {\n",
       "        text-align: right;\n",
       "    }\n",
       "</style>\n",
       "<table border=\"1\" class=\"dataframe\">\n",
       "  <thead>\n",
       "    <tr style=\"text-align: right;\">\n",
       "      <th></th>\n",
       "      <th>product_group</th>\n",
       "      <th>avg_price</th>\n",
       "      <th>avg_stock_qty</th>\n",
       "    </tr>\n",
       "  </thead>\n",
       "  <tbody>\n",
       "    <tr>\n",
       "      <th>0</th>\n",
       "      <td>PG1</td>\n",
       "      <td>303.612821</td>\n",
       "      <td>660.666667</td>\n",
       "    </tr>\n",
       "    <tr>\n",
       "      <th>1</th>\n",
       "      <td>PG2</td>\n",
       "      <td>124.980133</td>\n",
       "      <td>2142.013333</td>\n",
       "    </tr>\n",
       "    <tr>\n",
       "      <th>2</th>\n",
       "      <td>PG3</td>\n",
       "      <td>83.571538</td>\n",
       "      <td>2460.025641</td>\n",
       "    </tr>\n",
       "    <tr>\n",
       "      <th>3</th>\n",
       "      <td>PG4</td>\n",
       "      <td>31.033381</td>\n",
       "      <td>1332.532951</td>\n",
       "    </tr>\n",
       "    <tr>\n",
       "      <th>4</th>\n",
       "      <td>PG5</td>\n",
       "      <td>87.094980</td>\n",
       "      <td>17823.850980</td>\n",
       "    </tr>\n",
       "    <tr>\n",
       "      <th>5</th>\n",
       "      <td>PG6</td>\n",
       "      <td>39.300165</td>\n",
       "      <td>2963.008230</td>\n",
       "    </tr>\n",
       "  </tbody>\n",
       "</table>\n",
       "</div>"
      ],
      "text/plain": [
       "  product_group   avg_price  avg_stock_qty\n",
       "0           PG1  303.612821     660.666667\n",
       "1           PG2  124.980133    2142.013333\n",
       "2           PG3   83.571538    2460.025641\n",
       "3           PG4   31.033381    1332.532951\n",
       "4           PG5   87.094980   17823.850980\n",
       "5           PG6   39.300165    2963.008230"
      ]
     },
     "execution_count": 15,
     "metadata": {},
     "output_type": "execute_result"
    }
   ],
   "source": [
    "sales.groupby(\"product_group\", as_index=False).agg(  \n",
    "    avg_price = (\"price\",\"mean\"),\n",
    "    avg_stock_qty = (\"stock_qty\",\"mean\")\n",
    ")"
   ]
  },
  {
   "cell_type": "code",
   "execution_count": 16,
   "metadata": {},
   "outputs": [
    {
     "data": {
      "text/html": [
       "<div>\n",
       "<style scoped>\n",
       "    .dataframe tbody tr th:only-of-type {\n",
       "        vertical-align: middle;\n",
       "    }\n",
       "\n",
       "    .dataframe tbody tr th {\n",
       "        vertical-align: top;\n",
       "    }\n",
       "\n",
       "    .dataframe thead th {\n",
       "        text-align: right;\n",
       "    }\n",
       "</style>\n",
       "<table border=\"1\" class=\"dataframe\">\n",
       "  <thead>\n",
       "    <tr style=\"text-align: right;\">\n",
       "      <th></th>\n",
       "      <th>product_group</th>\n",
       "      <th>avg_profit</th>\n",
       "    </tr>\n",
       "  </thead>\n",
       "  <tbody>\n",
       "    <tr>\n",
       "      <th>0</th>\n",
       "      <td>PG1</td>\n",
       "      <td>98.071795</td>\n",
       "    </tr>\n",
       "    <tr>\n",
       "      <th>1</th>\n",
       "      <td>PG2</td>\n",
       "      <td>42.973467</td>\n",
       "    </tr>\n",
       "    <tr>\n",
       "      <th>2</th>\n",
       "      <td>PG3</td>\n",
       "      <td>26.299231</td>\n",
       "    </tr>\n",
       "    <tr>\n",
       "      <th>3</th>\n",
       "      <td>PG4</td>\n",
       "      <td>13.141605</td>\n",
       "    </tr>\n",
       "    <tr>\n",
       "      <th>4</th>\n",
       "      <td>PG5</td>\n",
       "      <td>18.657765</td>\n",
       "    </tr>\n",
       "    <tr>\n",
       "      <th>5</th>\n",
       "      <td>PG6</td>\n",
       "      <td>15.200864</td>\n",
       "    </tr>\n",
       "  </tbody>\n",
       "</table>\n",
       "</div>"
      ],
      "text/plain": [
       "  product_group  avg_profit\n",
       "0           PG1   98.071795\n",
       "1           PG2   42.973467\n",
       "2           PG3   26.299231\n",
       "3           PG4   13.141605\n",
       "4           PG5   18.657765\n",
       "5           PG6   15.200864"
      ]
     },
     "execution_count": 16,
     "metadata": {},
     "output_type": "execute_result"
    }
   ],
   "source": [
    "sales.groupby(\"product_group\", as_index=False).apply(\n",
    "    lambda x: pd.Series((x.price - x.cost).mean(), \n",
    "                        index=[\"avg_profit\"])\n",
    ")"
   ]
  }
 ],
 "metadata": {
  "interpreter": {
   "hash": "b0fa6594d8f4cbf19f97940f81e996739fb7646882a419484c72d19e05852a7e"
  },
  "kernelspec": {
   "display_name": "Python 3.9.6 64-bit",
   "language": "python",
   "name": "python3"
  },
  "language_info": {
   "codemirror_mode": {
    "name": "ipython",
    "version": 3
   },
   "file_extension": ".py",
   "mimetype": "text/x-python",
   "name": "python",
   "nbconvert_exporter": "python",
   "pygments_lexer": "ipython3",
   "version": "3.9.6"
  },
  "orig_nbformat": 4
 },
 "nbformat": 4,
 "nbformat_minor": 2
}
